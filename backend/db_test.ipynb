{
 "cells": [
  {
   "cell_type": "code",
   "execution_count": 1,
   "metadata": {},
   "outputs": [
    {
     "data": {
      "text/plain": [
       "<firebase_admin.App at 0x105aff0a0>"
      ]
     },
     "execution_count": 1,
     "metadata": {},
     "output_type": "execute_result"
    }
   ],
   "source": [
    "import firebase_admin\n",
    "from firebase_admin import credentials\n",
    "\n",
    "cred = credentials.Certificate(\"firebase-credentials.json\")\n",
    "firebase_admin.initialize_app(cred)"
   ]
  },
  {
   "cell_type": "code",
   "execution_count": 5,
   "metadata": {},
   "outputs": [],
   "source": [
    "from firebase_admin import firestore\n",
    "\n",
    "db = firestore.client()"
   ]
  },
  {
   "cell_type": "code",
   "execution_count": 9,
   "metadata": {},
   "outputs": [
    {
     "name": "stdout",
     "output_type": "stream",
     "text": [
      "test => {'date': DatetimeWithNanoseconds(2023, 2, 18, 17, 0, 0, 896000, tzinfo=datetime.timezone.utc), 'username': 'arvind6902@gmail.com', 'url': 'https://www.google.com/'}\n"
     ]
    }
   ],
   "source": [
    "for doc in db.collection('urls').stream():\n",
    "    print(f'{doc.id} => {doc.to_dict()}')"
   ]
  },
  {
   "cell_type": "code",
   "execution_count": 27,
   "metadata": {},
   "outputs": [
    {
     "name": "stdout",
     "output_type": "stream",
     "text": [
      "{'title': 'Apple', 'timestamp': '11:00', 'username': 'arvind6902@gmail.com', 'url': 'https://www.apple.com/'}\n",
      "{'title': 'Google Maps', 'timestamp': '10:00', 'url': 'https://www.google.com/maps', 'username': 'arvind6902@gmail.com'}\n"
     ]
    }
   ],
   "source": [
    "username = 'arvind6902@gmail.com'\n",
    "old_url_docs = db.collection('urls').where('username', '==', username).stream()\n",
    "for doc in old_url_docs:\n",
    "    print(doc.to_dict())"
   ]
  },
  {
   "cell_type": "code",
   "execution_count": 32,
   "metadata": {},
   "outputs": [
    {
     "name": "stdout",
     "output_type": "stream",
     "text": [
      "update_time {\n",
      "  seconds: 1676750069\n",
      "  nanos: 980595000\n",
      "}\n",
      "\n",
      "update_time {\n",
      "  seconds: 1676750070\n",
      "  nanos: 58867000\n",
      "}\n",
      "\n"
     ]
    }
   ],
   "source": [
    "clusters = db.collection('clusters').where('username', '==', username).stream()\n",
    "for cluster in clusters:\n",
    "    print(cluster.reference.update({\n",
    "        'abc': 'def'\n",
    "    }))"
   ]
  },
  {
   "cell_type": "code",
   "execution_count": null,
   "metadata": {},
   "outputs": [],
   "source": []
  }
 ],
 "metadata": {
  "kernelspec": {
   "display_name": "Python 3",
   "language": "python",
   "name": "python3"
  },
  "language_info": {
   "codemirror_mode": {
    "name": "ipython",
    "version": 3
   },
   "file_extension": ".py",
   "mimetype": "text/x-python",
   "name": "python",
   "nbconvert_exporter": "python",
   "pygments_lexer": "ipython3",
   "version": "3.10.6"
  },
  "orig_nbformat": 4,
  "vscode": {
   "interpreter": {
    "hash": "b0fa6594d8f4cbf19f97940f81e996739fb7646882a419484c72d19e05852a7e"
   }
  }
 },
 "nbformat": 4,
 "nbformat_minor": 2
}
