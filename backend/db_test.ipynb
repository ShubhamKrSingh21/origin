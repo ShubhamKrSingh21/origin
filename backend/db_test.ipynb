{
 "cells": [
  {
   "cell_type": "code",
   "execution_count": 6,
   "metadata": {},
   "outputs": [
    {
     "data": {
      "text/plain": [
       "<firebase_admin.App at 0x16ca67910>"
      ]
     },
     "execution_count": 6,
     "metadata": {},
     "output_type": "execute_result"
    }
   ],
   "source": [
    "import firebase_admin\n",
    "from firebase_admin import credentials\n",
    "\n",
    "cred = credentials.Certificate(\"firebase-credentials.json\")\n",
    "firebase_admin.initialize_app(cred)"
   ]
  },
  {
   "cell_type": "code",
   "execution_count": 7,
   "metadata": {},
   "outputs": [],
   "source": [
    "from firebase_admin import firestore\n",
    "\n",
    "db = firestore.client()"
   ]
  },
  {
   "cell_type": "code",
   "execution_count": 9,
   "metadata": {},
   "outputs": [
    {
     "name": "stdout",
     "output_type": "stream",
     "text": [
      "test => {'date': DatetimeWithNanoseconds(2023, 2, 18, 17, 0, 0, 896000, tzinfo=datetime.timezone.utc), 'username': 'arvind6902@gmail.com', 'url': 'https://www.google.com/'}\n"
     ]
    }
   ],
   "source": [
    "for doc in db.collection('urls').stream():\n",
    "    print(f'{doc.id} => {doc.to_dict()}')"
   ]
  },
  {
   "cell_type": "code",
   "execution_count": 27,
   "metadata": {},
   "outputs": [
    {
     "name": "stdout",
     "output_type": "stream",
     "text": [
      "{'title': 'Apple', 'timestamp': '11:00', 'username': 'arvind6902@gmail.com', 'url': 'https://www.apple.com/'}\n",
      "{'title': 'Google Maps', 'timestamp': '10:00', 'url': 'https://www.google.com/maps', 'username': 'arvind6902@gmail.com'}\n"
     ]
    }
   ],
   "source": [
    "username = 'arvind6902@gmail.com'\n",
    "old_url_docs = db.collection('urls').where('username', '==', username).stream()\n",
    "for doc in old_url_docs:\n",
    "    print(doc.to_dict())"
   ]
  },
  {
   "cell_type": "code",
   "execution_count": 32,
   "metadata": {},
   "outputs": [
    {
     "name": "stdout",
     "output_type": "stream",
     "text": [
      "update_time {\n",
      "  seconds: 1676750069\n",
      "  nanos: 980595000\n",
      "}\n",
      "\n",
      "update_time {\n",
      "  seconds: 1676750070\n",
      "  nanos: 58867000\n",
      "}\n",
      "\n"
     ]
    }
   ],
   "source": [
    "clusters = db.collection('clusters').where('username', '==', username).stream()\n",
    "for cluster in clusters:\n",
    "    print(cluster.reference.update({\n",
    "        'abc': 'def'\n",
    "    }))"
   ]
  },
  {
   "cell_type": "code",
   "execution_count": 98,
   "metadata": {},
   "outputs": [],
   "source": [
    "from embeddings import run_kmeans_2\n",
    "import uuid\n",
    "import numpy as np\n",
    "import math"
   ]
  },
  {
   "cell_type": "code",
   "execution_count": 99,
   "metadata": {},
   "outputs": [],
   "source": [
    "username = 'arvind6902@gmail.com'\n",
    "urls = ['https://mitsloan.mit.edu/ideas-made-to-matter/machine-learning-explained',\n",
    "        'https://www.bankofamerica.com/',\n",
    "        'https://www.mygreatlearning.com/blog/what-is-machine-learning/',\n",
    "        'https://www.citi.com/']\n",
    "titles = ['Machine Learning Explained, MIT Sloan',\n",
    "          'Bank of America',\n",
    "          'What is Machine Learning? Defination, Types, Applications, and more',\n",
    "          'Citi Online Credit Cards']\n",
    "timestamps = [9000, 10000, 20000, 4000]\n"
   ]
  },
  {
   "cell_type": "code",
   "execution_count": 100,
   "metadata": {},
   "outputs": [],
   "source": [
    "def generateId():\n",
    "    return uuid.uuid4().hex"
   ]
  },
  {
   "cell_type": "code",
   "execution_count": 101,
   "metadata": {},
   "outputs": [
    {
     "name": "stderr",
     "output_type": "stream",
     "text": [
      "/opt/homebrew/lib/python3.10/site-packages/sklearn/cluster/_kmeans.py:870: FutureWarning: The default value of `n_init` will change from 10 to 'auto' in 1.4. Set the value of `n_init` explicitly to suppress the warning\n",
      "  warnings.warn(\n"
     ]
    },
    {
     "name": "stdout",
     "output_type": "stream",
     "text": [
      "Cluster 0 has 2 vectors with indices: [0, 2]\n",
      "Cluster 1 has 2 vectors with indices: [1, 3]\n"
     ]
    },
    {
     "data": {
      "text/plain": [
       "[update_time {\n",
       "   seconds: 1676789855\n",
       "   nanos: 605142000\n",
       " },\n",
       " update_time {\n",
       "   seconds: 1676789855\n",
       "   nanos: 605142000\n",
       " },\n",
       " update_time {\n",
       "   seconds: 1676789855\n",
       "   nanos: 605142000\n",
       " },\n",
       " update_time {\n",
       "   seconds: 1676789855\n",
       "   nanos: 605142000\n",
       " }]"
      ]
     },
     "execution_count": 101,
     "metadata": {},
     "output_type": "execute_result"
    }
   ],
   "source": [
    "# Generate clusters and URLs from scratch\n",
    "cluster_objs = []\n",
    "cluster_ids = []\n",
    "url_objs = []\n",
    "url_ids = []\n",
    "\n",
    "kmeans, embeddings, cluster_indices = run_kmeans_2(titles)\n",
    "cluster_centers = kmeans.cluster_centers_\n",
    "for cluster_num in cluster_indices:\n",
    "    cluster_id = generateId()\n",
    "    cluster_name = f'Unnamed Cluster {cluster_num + 1}'\n",
    "    cluster_center = cluster_centers[cluster_num].tolist()\n",
    "\n",
    "    cluster_objs.append({\n",
    "        'name': cluster_name,\n",
    "        'username': username,\n",
    "        'center': cluster_center\n",
    "    })\n",
    "    cluster_ids.append(cluster_id)\n",
    "\n",
    "    for idx in cluster_indices[cluster_num]:\n",
    "        url_id = generateId()\n",
    "        embedding = embeddings[idx].tolist()\n",
    "        title = titles[idx]\n",
    "        url = urls[idx]\n",
    "        timestamp = timestamps[idx]\n",
    "\n",
    "        url_objs.append({\n",
    "            'title': title,\n",
    "            'url': url,\n",
    "            'timestamp': timestamp,\n",
    "            'username': username,\n",
    "            'cluster_id': cluster_id,\n",
    "            'embedding': embedding\n",
    "        })\n",
    "        url_ids.append(url_id)\n",
    "\n",
    "cluster_batch = db.batch()\n",
    "for cluster_id, cluster_obj in zip(cluster_ids, cluster_objs):\n",
    "    doc_ref = db.collection('clusters').document(cluster_id)\n",
    "    cluster_batch.set(doc_ref, cluster_obj)\n",
    "\n",
    "url_batch = db.batch()\n",
    "for url_id, url_obj in zip(url_ids, url_objs):\n",
    "    url_ref = db.collection('urls').document(url_id)\n",
    "    url_batch.set(url_ref, url_obj)\n",
    "\n",
    "cluster_batch.commit()\n",
    "url_batch.commit()"
   ]
  },
  {
   "cell_type": "code",
   "execution_count": 102,
   "metadata": {},
   "outputs": [],
   "source": [
    "username = 'arvind6902@gmail.com'\n",
    "urls = ['https://www.baeldung.com/cs/bellman-ford',\n",
    "        'https://www.moderntreasury.com/',\n",
    "        'https://stripe.com/',\n",
    "        'https://edu.gcfglobal.org/en/computerbasics/understanding-operating-systems/1/']\n",
    "titles = ['Bellman Ford Shortest Path Algorithm',\n",
    "          'Money Movement APIs | Modern Treasury',\n",
    "          'Stripe | Payment Infrastructure for the Internet',\n",
    "          'Computer Basics: Understanding Operating Systems']\n",
    "timestamps = [2000, 3000, 5000, 7000]"
   ]
  },
  {
   "cell_type": "code",
   "execution_count": 103,
   "metadata": {},
   "outputs": [
    {
     "name": "stderr",
     "output_type": "stream",
     "text": [
      "/opt/homebrew/lib/python3.10/site-packages/sklearn/cluster/_kmeans.py:870: FutureWarning: The default value of `n_init` will change from 10 to 'auto' in 1.4. Set the value of `n_init` explicitly to suppress the warning\n",
      "  warnings.warn(\n"
     ]
    },
    {
     "name": "stdout",
     "output_type": "stream",
     "text": [
      "Cluster 0 has 4 vectors with indices: [0, 3, 5, 6]\n",
      "Cluster 1 has 4 vectors with indices: [1, 2, 4, 7]\n"
     ]
    },
    {
     "data": {
      "text/plain": [
       "[update_time {\n",
       "   seconds: 1676789866\n",
       "   nanos: 883557000\n",
       " },\n",
       " update_time {\n",
       "   seconds: 1676789866\n",
       "   nanos: 883557000\n",
       " },\n",
       " update_time {\n",
       "   seconds: 1676789866\n",
       "   nanos: 883557000\n",
       " },\n",
       " update_time {\n",
       "   seconds: 1676789866\n",
       "   nanos: 883557000\n",
       " }]"
      ]
     },
     "execution_count": 103,
     "metadata": {},
     "output_type": "execute_result"
    }
   ],
   "source": [
    "existing_cluster_objs = []\n",
    "existing_cluster_ids = []\n",
    "# Get existing clusters (old)\n",
    "cluster_refs = db.collection('clusters').where('username', '==', username).stream()\n",
    "for cluster_ref in cluster_refs:\n",
    "    id = cluster_ref.id\n",
    "    d = cluster_ref.to_dict()\n",
    "    existing_cluster_objs.append(d)\n",
    "    existing_cluster_ids.append(id)\n",
    "\n",
    "new_url_objs = []\n",
    "new_url_ids = []\n",
    "# Append new URLs (new)\n",
    "for idx in range(len(titles)):\n",
    "    url_id = generateId()\n",
    "    title = titles[idx]\n",
    "    url = urls[idx]\n",
    "    timestamp = timestamps[idx]\n",
    "\n",
    "    new_url_objs.append({\n",
    "        'title': title,\n",
    "        'url': url,\n",
    "        'timestamp': timestamp,\n",
    "        'username': username,\n",
    "        # 'cluster_id': cluster_id,\n",
    "        # 'embedding': embedding\n",
    "    })\n",
    "    new_url_ids.append(url_id)\n",
    "\n",
    "existing_url_objs = []\n",
    "existing_url_ids = []\n",
    "# Get existing URLs (old)\n",
    "url_refs = db.collection('urls').where('username', '==', username).stream()\n",
    "for url_ref in url_refs:\n",
    "    id = url_ref.id\n",
    "    d = url_ref.to_dict()\n",
    "    existing_url_objs.append(d)\n",
    "    existing_url_ids.append(id)\n",
    "\n",
    "all_url_objs = existing_url_objs + new_url_objs\n",
    "all_url_ids = existing_url_ids + new_url_ids\n",
    "all_titles = list(map(lambda o: o['title'], existing_url_objs)) + titles\n",
    "new_old_cluster_mapping = {}\n",
    "new_cluster_objs = []\n",
    "new_cluster_ids = []\n",
    "# Calculate new clusters\n",
    "kmeans, embeddings, cluster_indices = run_kmeans_2(all_titles)\n",
    "for cluster_idx in cluster_indices:\n",
    "    new_cluster_mean = kmeans.cluster_centers_[cluster_idx].tolist()\n",
    "    best_old_mean_id, best_old_mean_obj, best_old_dist = None, None, math.inf\n",
    "    for existing_cluster_id, existing_cluster_obj in zip(existing_cluster_ids, existing_cluster_objs):\n",
    "        old_cluster_mean = existing_cluster_obj['center']\n",
    "        dist = np.linalg.norm(np.array(new_cluster_mean) - np.array(old_cluster_mean))\n",
    "        if dist < best_old_dist:\n",
    "            best_old_mean_id, best_old_mean_obj, best_old_dist = existing_cluster_id, existing_cluster_obj, dist\n",
    "\n",
    "    new_old_cluster_mapping[cluster_idx] = best_old_mean_id\n",
    "    new_cluster_objs.append({\n",
    "        'center': new_cluster_mean\n",
    "    })\n",
    "    new_cluster_ids.append(best_old_mean_id)\n",
    "\n",
    "# Add embedding and cluster_id for each new URL\n",
    "for new_url_obj in new_url_objs:\n",
    "    exit = False\n",
    "    for cluster_idx in cluster_indices:\n",
    "        for url_idx in cluster_indices[cluster_idx]:\n",
    "            if all_url_objs[url_idx]['url'] == new_url_obj['url']:\n",
    "                new_url_obj['embedding'] = embeddings[url_idx].tolist()\n",
    "                new_url_obj['cluster_id'] = new_cluster_ids[cluster_idx]\n",
    "                exit = True\n",
    "                break\n",
    "        if exit == True:\n",
    "            break\n",
    "    if exit == True:\n",
    "        continue\n",
    "\n",
    "\n",
    "# Update cluster centers for existing clusters\n",
    "update_clusters_batch = db.batch()\n",
    "for new_cluster_id, new_cluster_obj in zip(new_cluster_ids, new_cluster_objs):\n",
    "    ref = db.collection('clusters').document(new_cluster_id)\n",
    "    update_clusters_batch.update(ref, new_cluster_obj)\n",
    "\n",
    "# Push new URLs\n",
    "create_urls_batch = db.batch()\n",
    "for new_url_id, new_url_obj in zip(new_url_ids, new_url_objs):\n",
    "    ref = db.collection('urls').document(new_url_id)\n",
    "    create_urls_batch.set(ref, new_url_obj)\n",
    "\n",
    "update_clusters_batch.commit()\n",
    "create_urls_batch.commit()"
   ]
  },
  {
   "cell_type": "code",
   "execution_count": 109,
   "metadata": {},
   "outputs": [
    {
     "data": {
      "text/plain": [
       "8"
      ]
     },
     "execution_count": 109,
     "metadata": {},
     "output_type": "execute_result"
    }
   ],
   "source": [
    "db.collection('urls').where('username', '==', username).count().get()[0][0].value"
   ]
  },
  {
   "cell_type": "code",
   "execution_count": null,
   "metadata": {},
   "outputs": [],
   "source": []
  }
 ],
 "metadata": {
  "kernelspec": {
   "display_name": "Python 3",
   "language": "python",
   "name": "python3"
  },
  "language_info": {
   "codemirror_mode": {
    "name": "ipython",
    "version": 3
   },
   "file_extension": ".py",
   "mimetype": "text/x-python",
   "name": "python",
   "nbconvert_exporter": "python",
   "pygments_lexer": "ipython3",
   "version": "3.10.6"
  },
  "orig_nbformat": 4,
  "vscode": {
   "interpreter": {
    "hash": "b0fa6594d8f4cbf19f97940f81e996739fb7646882a419484c72d19e05852a7e"
   }
  }
 },
 "nbformat": 4,
 "nbformat_minor": 2
}
